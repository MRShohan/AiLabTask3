{
  "nbformat": 4,
  "nbformat_minor": 0,
  "metadata": {
    "colab": {
      "name": "Lab task 3.ipynb",
      "provenance": [],
      "collapsed_sections": [],
      "include_colab_link": true
    },
    "kernelspec": {
      "name": "python3",
      "display_name": "Python 3"
    }
  },
  "cells": [
    {
      "cell_type": "markdown",
      "metadata": {
        "id": "view-in-github",
        "colab_type": "text"
      },
      "source": [
        "<a href=\"https://colab.research.google.com/github/MRShohan/AiLabTask3/blob/main/Lab_task_3.ipynb\" target=\"_parent\"><img src=\"https://colab.research.google.com/assets/colab-badge.svg\" alt=\"Open In Colab\"/></a>"
      ]
    },
    {
      "cell_type": "code",
      "metadata": {
        "id": "Il1Y_YRlDomr"
      },
      "source": [
        "course_name = []\n",
        "course_code = []"
      ],
      "execution_count": null,
      "outputs": []
    },
    {
      "cell_type": "code",
      "metadata": {
        "colab": {
          "base_uri": "https://localhost:8080/"
        },
        "id": "wgahQqBAVfqJ",
        "outputId": "a0e8ae62-6a80-467e-e4d3-a65aadbb1253"
      },
      "source": [
        "def navBar():\n",
        "  print(\"     This your dashboard for keep tracking of your semister course\")\n",
        "  print(\"|----------------------------------------------------------------------|\")\n",
        "  print(\"|-------------------------- Menu --------------------------------------|\")\n",
        "  print(\"|----------------------------------------------------------------------|\")\n",
        "  print(\"       Type 1 and press Enter for show your registerd course\")\n",
        "  print(\"              Type 2 and press Enter for Add course\")\n",
        "  print('             Type 3 and press Enter for remove course')\n",
        "\n",
        "navBar()\n"
      ],
      "execution_count": null,
      "outputs": [
        {
          "output_type": "stream",
          "text": [
            "     This your dashboard for keep tracking of your semister course\n",
            "|----------------------------------------------------------------------|\n",
            "|-------------------------- Menu --------------------------------------|\n",
            "|----------------------------------------------------------------------|\n",
            "       Type 1 and press Enter for show your registerd course\n",
            "              Type 2 and press Enter for Add course\n",
            "             Type 3 and press Enter for remove course\n"
          ],
          "name": "stdout"
        }
      ]
    },
    {
      "cell_type": "code",
      "metadata": {
        "id": "B2Jl7KAyWdE7"
      },
      "source": [
        "def show_your_registerd_course():\n",
        "  print()\n",
        "  if len(course_code) == 0:\n",
        "    print(\"No course in your list\")\n",
        "  else:\n",
        "    print(\"\\nID ---  Course Name --- Course Code\")\n",
        "    for id, course in enumerate(course_name):\n",
        "      print(f\"{id+1} --- {course} --- {course_code[id]}\")\n"
      ],
      "execution_count": null,
      "outputs": []
    },
    {
      "cell_type": "code",
      "metadata": {
        "id": "d1hQ-FYPYSv9"
      },
      "source": [
        "def add_course(code, name):\n",
        "  course_code.append(code)\n",
        "  course_name.append(name)\n",
        "  show_your_registerd_course()\n"
      ],
      "execution_count": null,
      "outputs": []
    },
    {
      "cell_type": "code",
      "metadata": {
        "id": "_nbzq02tzY0O"
      },
      "source": [
        "def remove_course(index):\n",
        "  course_code.pop(index)\n",
        "  course_name.pop(index)\n",
        "  show_your_registerd_course()\n"
      ],
      "execution_count": null,
      "outputs": []
    },
    {
      "cell_type": "code",
      "metadata": {
        "colab": {
          "base_uri": "https://localhost:8080/"
        },
        "id": "9ll6qowB1DwX",
        "outputId": "2c45e8ac-38cf-4af0-ed5a-4b2be94ea85c"
      },
      "source": [
        "def main_page():\n",
        "  choice = int(input(\"Enter your choice: \"))\n",
        "  if choice == 1:\n",
        "    show_your_registerd_course()\n",
        "  elif choice == 2:\n",
        "    name = input(\"Enter course name: \")\n",
        "    code = input(\"Enter course code: \")\n",
        "    add_course(code, name)\n",
        "  elif choice == 3:\n",
        "    index = int(input(\"Enter course id: \"))\n",
        "    remove_course(index-1)\n",
        "  else:\n",
        "    print(\"Please insert a valid Input.\")\n",
        "    main_page()\n",
        "main_page()\n"
      ],
      "execution_count": null,
      "outputs": [
        {
          "output_type": "stream",
          "text": [
            "Enter your choice: 1\n",
            "\n",
            "No course in your list\n"
          ],
          "name": "stdout"
        }
      ]
    },
    {
      "cell_type": "code",
      "metadata": {
        "id": "Mzwq_0a1226o"
      },
      "source": [
        ""
      ],
      "execution_count": null,
      "outputs": []
    }
  ]
}